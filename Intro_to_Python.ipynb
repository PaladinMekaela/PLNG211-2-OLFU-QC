{
  "nbformat": 4,
  "nbformat_minor": 0,
  "metadata": {
    "colab": {
      "provenance": [],
      "collapsed_sections": [],
      "authorship_tag": "ABX9TyP3v3A+sOFXfdt1UKM8yZo9",
      "include_colab_link": true
    },
    "kernelspec": {
      "name": "python3",
      "display_name": "Python 3"
    },
    "language_info": {
      "name": "python"
    }
  },
  "cells": [
    {
      "cell_type": "markdown",
      "metadata": {
        "id": "view-in-github",
        "colab_type": "text"
      },
      "source": [
        "<a href=\"https://colab.research.google.com/github/PaladinMekaela/PLNG211-2-OLFU-QC/blob/main/Intro_to_Python.ipynb\" target=\"_parent\"><img src=\"https://colab.research.google.com/assets/colab-badge.svg\" alt=\"Open In Colab\"/></a>"
      ]
    },
    {
      "cell_type": "code",
      "source": [
        "Comment"
      ],
      "metadata": {
        "id": "Ic7n9UiKNj0X"
      },
      "execution_count": null,
      "outputs": []
    },
    {
      "cell_type": "code",
      "source": [
        "#This is a comment\n",
        "print (\"Hello, world\")"
      ],
      "metadata": {
        "colab": {
          "base_uri": "https://localhost:8080/"
        },
        "id": "ArEXAH1KN1jN",
        "outputId": "caa548ab-57a6-47e8-a234-c37fa0ac4238"
      },
      "execution_count": 1,
      "outputs": [
        {
          "output_type": "stream",
          "name": "stdout",
          "text": [
            "Hello, world\n"
          ]
        }
      ]
    },
    {
      "cell_type": "markdown",
      "source": [
        "Python Variable"
      ],
      "metadata": {
        "id": "bVTzMmpoOX_u"
      }
    },
    {
      "cell_type": "code",
      "source": [
        "#Single Variable\n",
        "a = 3\n",
        "b = -1\n",
        "\n",
        "a,b = 3,3\n",
        "a"
      ],
      "metadata": {
        "colab": {
          "base_uri": "https://localhost:8080/"
        },
        "id": "OWrh61BQOcNy",
        "outputId": "77097604-09bb-4171-aeea-d1d4a4f0ff77"
      },
      "execution_count": 5,
      "outputs": [
        {
          "output_type": "execute_result",
          "data": {
            "text/plain": [
              "3"
            ]
          },
          "metadata": {},
          "execution_count": 5
        }
      ]
    },
    {
      "cell_type": "code",
      "source": [
        "#Multiple Variable\n",
        "a,b= float(8),-1\n",
        "print (a)\n",
        "\n",
        "#string type\n",
        "c = \"mika\"\n",
        "c\n",
        "c = str('mika')\n",
        "\n",
        "print (c)\n",
        "print (c)\n",
        "print (c)\n"
      ],
      "metadata": {
        "colab": {
          "base_uri": "https://localhost:8080/"
        },
        "id": "tgSRgBMiPgHv",
        "outputId": "750f7a7e-d28c-45dd-9724-730112c8a982"
      },
      "execution_count": 12,
      "outputs": [
        {
          "output_type": "stream",
          "name": "stdout",
          "text": [
            "8.0\n",
            "mika\n",
            "mika\n",
            "mika\n"
          ]
        }
      ]
    },
    {
      "cell_type": "markdown",
      "source": [
        "Type Function"
      ],
      "metadata": {
        "id": "MPTbpfMjRO5k"
      }
    },
    {
      "cell_type": "code",
      "source": [
        "print (type(c))"
      ],
      "metadata": {
        "colab": {
          "base_uri": "https://localhost:8080/"
        },
        "id": "YGqa6OMeRszm",
        "outputId": "f711ead8-cf80-4d7f-b0e7-d7148aadadbf"
      },
      "execution_count": 13,
      "outputs": [
        {
          "output_type": "stream",
          "name": "stdout",
          "text": [
            "<class 'str'>\n"
          ]
        }
      ]
    },
    {
      "cell_type": "code",
      "source": [
        "#Proper Indentation\n",
        "if 5>2:\n",
        "  print(\"5 is greater than 1\")"
      ],
      "metadata": {
        "colab": {
          "base_uri": "https://localhost:8080/"
        },
        "id": "B0eq1D7gR_P2",
        "outputId": "e90785d0-5994-4f7e-b35b-a5126864e670"
      },
      "execution_count": 14,
      "outputs": [
        {
          "output_type": "stream",
          "name": "stdout",
          "text": [
            "5 is greater than 1\n"
          ]
        }
      ]
    },
    {
      "cell_type": "markdown",
      "source": [
        "Single and Double Qoute"
      ],
      "metadata": {
        "id": "h7JC-_PMeWrz"
      }
    },
    {
      "cell_type": "code",
      "source": [
        "f= \"Jane\"\n",
        "j='Jane'\n",
        "\n",
        "print(f)\n",
        "print(j)"
      ],
      "metadata": {
        "colab": {
          "base_uri": "https://localhost:8080/"
        },
        "id": "wNL5eqfFed1K",
        "outputId": "398cb652-2b75-4bae-bc88-838a8a265984"
      },
      "execution_count": 15,
      "outputs": [
        {
          "output_type": "stream",
          "name": "stdout",
          "text": [
            "Jane\n",
            "Jane\n"
          ]
        }
      ]
    },
    {
      "cell_type": "markdown",
      "source": [
        "Multiple Variables"
      ],
      "metadata": {
        "id": "SRE0awZLgPGd"
      }
    },
    {
      "cell_type": "code",
      "source": [
        "x,y,z = 1,2,3\n",
        "\n",
        "print (x)\n",
        "print (y)\n",
        "print (z)"
      ],
      "metadata": {
        "colab": {
          "base_uri": "https://localhost:8080/"
        },
        "id": "NCRJDnKRgSWu",
        "outputId": "dbdf417c-b1b6-48e7-b8a8-a85982f2251c"
      },
      "execution_count": 16,
      "outputs": [
        {
          "output_type": "stream",
          "name": "stdout",
          "text": [
            "1\n",
            "2\n",
            "3\n"
          ]
        }
      ]
    },
    {
      "cell_type": "markdown",
      "source": [
        "Single Values to Multiple Variables"
      ],
      "metadata": {
        "id": "qzIqOL9IgluZ"
      }
    },
    {
      "cell_type": "code",
      "source": [
        "x=y=z=\"python\"\n",
        "print (x)\n",
        "print (y)\n",
        "print (z)"
      ],
      "metadata": {
        "colab": {
          "base_uri": "https://localhost:8080/"
        },
        "id": "zDUSYQUOguMW",
        "outputId": "28bc95e7-c8c0-488e-e16f-e1596e980ef2"
      },
      "execution_count": 17,
      "outputs": [
        {
          "output_type": "stream",
          "name": "stdout",
          "text": [
            "python\n",
            "python\n",
            "python\n"
          ]
        }
      ]
    },
    {
      "cell_type": "markdown",
      "source": [
        "Output Variables"
      ],
      "metadata": {
        "id": "b6MoRl4QiWAE"
      }
    },
    {
      "cell_type": "code",
      "source": [
        "x= \"fun\"\n",
        "y= \"Python Programming is \"\n",
        "\n",
        "print (y + x)"
      ],
      "metadata": {
        "colab": {
          "base_uri": "https://localhost:8080/"
        },
        "id": "gn2xz0v1iqf0",
        "outputId": "4900316a-24cc-4fb5-f18b-d1e8920075c8"
      },
      "execution_count": 19,
      "outputs": [
        {
          "output_type": "stream",
          "name": "stdout",
          "text": [
            "Python Programming is fun\n"
          ]
        }
      ]
    },
    {
      "cell_type": "markdown",
      "source": [
        "Arithmetic Operations"
      ],
      "metadata": {
        "id": "rzHFcJHCjQsy"
      }
    },
    {
      "cell_type": "code",
      "source": [
        "a = 4%2\n",
        "print (a)\n",
        "b = 3//2\n",
        "print(b)\n",
        "\n",
        "c= 7\n",
        "print(c**2)"
      ],
      "metadata": {
        "colab": {
          "base_uri": "https://localhost:8080/"
        },
        "id": "tvBh3IYPjeAt",
        "outputId": "6fd50d6d-b83a-4183-a527-c66726c40fec"
      },
      "execution_count": 23,
      "outputs": [
        {
          "output_type": "stream",
          "name": "stdout",
          "text": [
            "0\n",
            "1\n",
            "49\n"
          ]
        }
      ]
    },
    {
      "cell_type": "markdown",
      "source": [
        "##Assignment Operations"
      ],
      "metadata": {
        "id": "GKwDTfRakSRG"
      }
    },
    {
      "cell_type": "code",
      "source": [
        "c = 5 \n",
        "c+=3\n",
        "print(c)"
      ],
      "metadata": {
        "colab": {
          "base_uri": "https://localhost:8080/"
        },
        "id": "LzaAznxGkY5-",
        "outputId": "b58f9658-ff33-4fdb-f97f-23fd31ac0387"
      },
      "execution_count": 24,
      "outputs": [
        {
          "output_type": "stream",
          "name": "stdout",
          "text": [
            "8\n"
          ]
        }
      ]
    },
    {
      "cell_type": "markdown",
      "source": [
        "Comparison Operators"
      ],
      "metadata": {
        "id": "fEkmfB6clDQ5"
      }
    },
    {
      "cell_type": "code",
      "source": [
        "i =5>2\n",
        "h=3>5\n",
        "print (i)\n",
        "print(h)\n",
        "\n",
        "not (i or h)"
      ],
      "metadata": {
        "colab": {
          "base_uri": "https://localhost:8080/"
        },
        "id": "qF4V25vRlMN2",
        "outputId": "0f817039-cbeb-488c-c13e-62eba9cb3f80"
      },
      "execution_count": 25,
      "outputs": [
        {
          "output_type": "stream",
          "name": "stdout",
          "text": [
            "True\n",
            "False\n"
          ]
        },
        {
          "output_type": "execute_result",
          "data": {
            "text/plain": [
              "False"
            ]
          },
          "metadata": {},
          "execution_count": 25
        }
      ]
    },
    {
      "cell_type": "markdown",
      "source": [
        "Identity Operators "
      ],
      "metadata": {
        "id": "zaAQbEL9ledA"
      }
    },
    {
      "cell_type": "code",
      "source": [
        "i is not h"
      ],
      "metadata": {
        "colab": {
          "base_uri": "https://localhost:8080/"
        },
        "id": "JEZYKPupliwK",
        "outputId": "cf71f272-bd28-4e68-9511-c5d3df5d4ff1"
      },
      "execution_count": 26,
      "outputs": [
        {
          "output_type": "execute_result",
          "data": {
            "text/plain": [
              "True"
            ]
          },
          "metadata": {},
          "execution_count": 26
        }
      ]
    },
    {
      "cell_type": "markdown",
      "source": [
        "##Bitwise Operators"
      ],
      "metadata": {
        "id": "GlmGQVZllp_s"
      }
    },
    {
      "cell_type": "code",
      "source": [
        "v = 10\n",
        "v<<2\n",
        "print (v)\n",
        "y = 2\n",
        "\n",
        "y>> 1"
      ],
      "metadata": {
        "colab": {
          "base_uri": "https://localhost:8080/"
        },
        "id": "QwnPapJFlv9d",
        "outputId": "d4b488bd-7992-48af-f416-9bd73d86aeab"
      },
      "execution_count": 28,
      "outputs": [
        {
          "output_type": "stream",
          "name": "stdout",
          "text": [
            "10\n"
          ]
        },
        {
          "output_type": "execute_result",
          "data": {
            "text/plain": [
              "1"
            ]
          },
          "metadata": {},
          "execution_count": 28
        }
      ]
    }
  ]
}
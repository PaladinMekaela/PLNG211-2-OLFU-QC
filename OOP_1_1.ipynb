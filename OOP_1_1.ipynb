{
  "nbformat": 4,
  "nbformat_minor": 0,
  "metadata": {
    "colab": {
      "provenance": [],
      "authorship_tag": "ABX9TyNx426y0+YXBXtjwm4reFfQ",
      "include_colab_link": true
    },
    "kernelspec": {
      "name": "python3",
      "display_name": "Python 3"
    },
    "language_info": {
      "name": "python"
    }
  },
  "cells": [
    {
      "cell_type": "markdown",
      "metadata": {
        "id": "view-in-github",
        "colab_type": "text"
      },
      "source": [
        "<a href=\"https://colab.research.google.com/github/PaladinMekaela/PLNG211-2-OLFU-QC/blob/main/OOP_1_1.ipynb\" target=\"_parent\"><img src=\"https://colab.research.google.com/assets/colab-badge.svg\" alt=\"Open In Colab\"/></a>"
      ]
    },
    {
      "cell_type": "code",
      "execution_count": null,
      "metadata": {
        "id": "8oFl2Zmtg8aD"
      },
      "outputs": [],
      "source": [
        "class Student:\n",
        "  def __init__( Student,Name,StudentNo,Age,School,Course):\n",
        "    Student.Name = Name\n",
        "    Student.StudentNo = StudentNo\n",
        "    Student.Age = Age\n",
        "    Student.School = School\n",
        "    Student.Course = Course\n",
        "  def myFunction(Student):\n",
        "      print(Student.Name)\n",
        "      print(Student.StudentNo)\n",
        "      print(Student.Age)\n",
        "      print(Student.School)\n",
        "      print(Student.Course)\n",
        "\n",
        "\n",
        "p1 = Student(\"Arron Angelo G. Gasapos\",\"02210006748\",21,\"OLFU QC\",\"BSCS\") \n",
        "p1.myFunction()"
      ]
    }
  ]
}
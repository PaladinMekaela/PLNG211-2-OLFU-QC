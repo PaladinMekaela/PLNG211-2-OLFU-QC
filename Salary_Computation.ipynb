{
  "nbformat": 4,
  "nbformat_minor": 0,
  "metadata": {
    "colab": {
      "provenance": [],
      "authorship_tag": "ABX9TyN15+Wle5dhzC74xayoHy2D",
      "include_colab_link": true
    },
    "kernelspec": {
      "name": "python3",
      "display_name": "Python 3"
    },
    "language_info": {
      "name": "python"
    }
  },
  "cells": [
    {
      "cell_type": "markdown",
      "metadata": {
        "id": "view-in-github",
        "colab_type": "text"
      },
      "source": [
        "<a href=\"https://colab.research.google.com/github/PaladinMekaela/PLNG211-2-OLFU-QC/blob/main/Salary_Computation.ipynb\" target=\"_parent\"><img src=\"https://colab.research.google.com/assets/colab-badge.svg\" alt=\"Open In Colab\"/></a>"
      ]
    },
    {
      "cell_type": "code",
      "execution_count": 33,
      "metadata": {
        "id": "uUWlfOKuVc_S",
        "colab": {
          "base_uri": "https://localhost:8080/"
        },
        "outputId": "175a2c42-d4d9-42b0-dbdd-07ab7c9100ca"
      },
      "outputs": [
        {
          "output_type": "stream",
          "name": "stdout",
          "text": [
            "Your daily rate is: 600\n",
            "\n",
            "Your Salary is: 9000\n",
            "\n",
            "Tax percentage deducted is 30%\n",
            "\n",
            "Tax Amount deducted is: 2700.0\n",
            "\n",
            "Your total Net pay is: 6300.0\n"
          ]
        }
      ],
      "source": [
        "Salary_rate = 600\n",
        "Salary = Salary_rate*15\n",
        "Tax_percentage = .30\n",
        "Tax_amount = Salary * Tax_percentage\n",
        "Net_pay = Salary - Tax_amount \n",
        "\n",
        "print(\"Your daily rate is:\", Salary_rate)\n",
        "print(\"\\nYour Salary is:\", Salary)\n",
        "print(\"\\nTax percentage deducted is 30%\")\n",
        "print(\"\\nTax Amount deducted is:\", Tax_amount)\n",
        "print(\"\\nYour total Net pay is:\", Net_pay)\n",
        "\n"
      ]
    }
  ]
}
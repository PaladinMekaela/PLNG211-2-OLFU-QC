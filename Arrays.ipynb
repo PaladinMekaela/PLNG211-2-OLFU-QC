{
  "nbformat": 4,
  "nbformat_minor": 0,
  "metadata": {
    "colab": {
      "provenance": [],
      "collapsed_sections": [],
      "authorship_tag": "ABX9TyMw4ckf1s9rR2witVotV4vo",
      "include_colab_link": true
    },
    "kernelspec": {
      "name": "python3",
      "display_name": "Python 3"
    },
    "language_info": {
      "name": "python"
    }
  },
  "cells": [
    {
      "cell_type": "markdown",
      "metadata": {
        "id": "view-in-github",
        "colab_type": "text"
      },
      "source": [
        "<a href=\"https://colab.research.google.com/github/PaladinMekaela/PLNG211-2-OLFU-QC/blob/main/Arrays.ipynb\" target=\"_parent\"><img src=\"https://colab.research.google.com/assets/colab-badge.svg\" alt=\"Open In Colab\"/></a>"
      ]
    },
    {
      "cell_type": "code",
      "execution_count": 20,
      "metadata": {
        "colab": {
          "base_uri": "https://localhost:8080/"
        },
        "id": "0_rG-nutO6lg",
        "outputId": "ab0a446f-1e8a-45a7-94ab-3c596a2f6c2b"
      },
      "outputs": [
        {
          "output_type": "stream",
          "name": "stdout",
          "text": [
            "The list of animals in an array are ['cat', 'dog', 'fish']\n",
            "The animal in animals [0] is: cat\n"
          ]
        }
      ],
      "source": [
        "#Accessing the Elements in the Array\n",
        "animals = ['cat', 'dog', 'fish']\n",
        "x = animals[0]\n",
        "print(\"The list of animals in an array are\", animals)\n",
        "print(\"The animal in animals [0] is:\" ,x)\n"
      ]
    },
    {
      "cell_type": "code",
      "source": [
        "#modifying Elements in the Array\n",
        "animals = ['cat', 'dog', 'fish']\n",
        "animals[1] = 'monkey'\n",
        "print(animals)"
      ],
      "metadata": {
        "colab": {
          "base_uri": "https://localhost:8080/"
        },
        "id": "wgUrTSFDTBUT",
        "outputId": "1f963c1e-af36-4d04-f07f-d0fe25aa7ec8"
      },
      "execution_count": 9,
      "outputs": [
        {
          "output_type": "stream",
          "name": "stdout",
          "text": [
            "['cat', 'joshua the monkey', 'fish']\n"
          ]
        }
      ]
    },
    {
      "cell_type": "code",
      "source": [
        "#Lenght of the Array \n",
        "animals = ['cat', 'dog', 'fish']\n",
        "x = len(animals)\n",
        "print(x)"
      ],
      "metadata": {
        "colab": {
          "base_uri": "https://localhost:8080/"
        },
        "id": "f-BUyVUcTuUv",
        "outputId": "df2a4b8b-7462-423c-a456-77949241b1fa"
      },
      "execution_count": 10,
      "outputs": [
        {
          "output_type": "stream",
          "name": "stdout",
          "text": [
            "3\n"
          ]
        }
      ]
    },
    {
      "cell_type": "code",
      "source": [
        "#Looping Array Elements\n",
        "verbs = ['jumping', 'eating', 'swimming']\n",
        "animals = ['cat', 'dog', 'fish']\n",
        "for k in verbs:\n",
        " for j in animals:\n",
        "   print(k,j)"
      ],
      "metadata": {
        "colab": {
          "base_uri": "https://localhost:8080/"
        },
        "id": "hCKEWr4FUHOi",
        "outputId": "03a04c5e-da2e-4205-b335-83887aaadfe9"
      },
      "execution_count": 14,
      "outputs": [
        {
          "output_type": "stream",
          "name": "stdout",
          "text": [
            "jumping cat\n",
            "jumping dog\n",
            "jumping fish\n",
            "eating cat\n",
            "eating dog\n",
            "eating fish\n",
            "swimming cat\n",
            "swimming dog\n",
            "swimming fish\n"
          ]
        }
      ]
    },
    {
      "cell_type": "code",
      "source": [
        "#Append the Element in the Array\n",
        "\n",
        "animals = ['cat','dog', 'fish']\n",
        "animals.append(\"monkey\")\n",
        "print(animals)"
      ],
      "metadata": {
        "colab": {
          "base_uri": "https://localhost:8080/"
        },
        "id": "IV7K3q-TVwW2",
        "outputId": "7d6ba335-ed23-44fd-a8bf-373b155d52db"
      },
      "execution_count": 23,
      "outputs": [
        {
          "output_type": "stream",
          "name": "stdout",
          "text": [
            "['cat', 'dog', 'fish', 'monkey']\n"
          ]
        }
      ]
    },
    {
      "cell_type": "code",
      "source": [
        "#Insert an Element in an array list\n",
        "animals = ['cat', 'dog', 'fish']\n",
        "animals.insert(0,'bird')\n",
        "print(animals)\n"
      ],
      "metadata": {
        "colab": {
          "base_uri": "https://localhost:8080/"
        },
        "id": "MSoaYx-hWWo1",
        "outputId": "429c95dd-2467-4a32-928b-b15e480294c7"
      },
      "execution_count": 17,
      "outputs": [
        {
          "output_type": "stream",
          "name": "stdout",
          "text": [
            "['bird', 'cat', 'dog', 'fish']\n"
          ]
        }
      ]
    },
    {
      "cell_type": "code",
      "source": [
        "#Remove an element in the Array list\n",
        "animals.pop(1)\n",
        "print(animals)"
      ],
      "metadata": {
        "colab": {
          "base_uri": "https://localhost:8080/"
        },
        "id": "n6O-sayNXNRK",
        "outputId": "004c3c46-6e11-4096-c71b-2ea194cd72c1"
      },
      "execution_count": 18,
      "outputs": [
        {
          "output_type": "stream",
          "name": "stdout",
          "text": [
            "['bird', 'dog', 'fish']\n"
          ]
        }
      ]
    },
    {
      "cell_type": "code",
      "source": [
        "#Array module in Python\n",
        "#Append\n",
        "from array import *\n",
        "numbers = array('i', [1,2,3,4,5])\n",
        "numbers.typecode"
      ],
      "metadata": {
        "colab": {
          "base_uri": "https://localhost:8080/",
          "height": 35
        },
        "id": "YCP-Gvy4Xy7B",
        "outputId": "b2e86639-c010-4ced-ee4c-e6127493c39b"
      },
      "execution_count": 21,
      "outputs": [
        {
          "output_type": "execute_result",
          "data": {
            "text/plain": [
              "'i'"
            ],
            "application/vnd.google.colaboratory.intrinsic+json": {
              "type": "string"
            }
          },
          "metadata": {},
          "execution_count": 21
        }
      ]
    },
    {
      "cell_type": "code",
      "source": [
        "#Array module in Python\n",
        "#Append\n",
        "from array import *\n",
        "numbers = array('i', [1,2,3,4,5,8,8,9,2,5,3])\n",
        "numbers.count(3)\n",
        "numbers.reverse()\n",
        "print(numbers)"
      ],
      "metadata": {
        "colab": {
          "base_uri": "https://localhost:8080/"
        },
        "outputId": "8a6ad6af-52d4-4eaa-c2b8-f09af1679a83",
        "id": "a1R5iWTtYqg5"
      },
      "execution_count": 22,
      "outputs": [
        {
          "output_type": "stream",
          "name": "stdout",
          "text": [
            "array('i', [3, 5, 2, 9, 8, 8, 5, 4, 3, 2, 1])\n"
          ]
        }
      ]
    }
  ]
}